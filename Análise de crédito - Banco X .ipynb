{
  "nbformat": 4,
  "nbformat_minor": 0,
  "metadata": {
    "colab": {
      "provenance": [],
      "toc_visible": true,
      "mount_file_id": "1O5t4ZuEY7PHRRMTesKv0IJ68Czlc-Jjc",
      "authorship_tag": "ABX9TyM+Q8J0azUk2uhkFUWr8oQj",
      "include_colab_link": true
    },
    "kernelspec": {
      "name": "python3",
      "display_name": "Python 3"
    },
    "language_info": {
      "name": "python"
    }
  },
  "cells": [
    {
      "cell_type": "markdown",
      "metadata": {
        "id": "view-in-github",
        "colab_type": "text"
      },
      "source": [
        "<a href=\"https://colab.research.google.com/github/AmandaPCerqueira/P-s/blob/main/An%C3%A1lise%20de%20cr%C3%A9dito%20-%20Banco%20X%20.ipynb\" target=\"_parent\"><img src=\"https://colab.research.google.com/assets/colab-badge.svg\" alt=\"Open In Colab\"/></a>"
      ]
    },
    {
      "cell_type": "markdown",
      "source": [
        "# **Análise de risco de crédito do cliente**\n",
        "\n",
        "Objetivo: Com base em características pessoais do cliente e dados de movimentação financeira, o modelo deverá ser capaz de prever uma possível inadimplencia e o banco poderá prpor acções"
      ],
      "metadata": {
        "id": "ZOysaSbLBXTI"
      }
    },
    {
      "cell_type": "code",
      "source": [
        "!pip install pandas scikit_learn"
      ],
      "metadata": {
        "colab": {
          "base_uri": "https://localhost:8080/"
        },
        "id": "vQbXQbS4LANk",
        "outputId": "879f245b-a500-4696-eedd-2b86c75e69e9"
      },
      "execution_count": null,
      "outputs": [
        {
          "output_type": "stream",
          "name": "stdout",
          "text": [
            "Requirement already satisfied: pandas in /usr/local/lib/python3.10/dist-packages (1.5.3)\n",
            "Requirement already satisfied: scikit_learn in /usr/local/lib/python3.10/dist-packages (1.2.2)\n",
            "Requirement already satisfied: python-dateutil>=2.8.1 in /usr/local/lib/python3.10/dist-packages (from pandas) (2.8.2)\n",
            "Requirement already satisfied: pytz>=2020.1 in /usr/local/lib/python3.10/dist-packages (from pandas) (2023.4)\n",
            "Requirement already satisfied: numpy>=1.21.0 in /usr/local/lib/python3.10/dist-packages (from pandas) (1.25.2)\n",
            "Requirement already satisfied: scipy>=1.3.2 in /usr/local/lib/python3.10/dist-packages (from scikit_learn) (1.11.4)\n",
            "Requirement already satisfied: joblib>=1.1.1 in /usr/local/lib/python3.10/dist-packages (from scikit_learn) (1.3.2)\n",
            "Requirement already satisfied: threadpoolctl>=2.0.0 in /usr/local/lib/python3.10/dist-packages (from scikit_learn) (3.3.0)\n",
            "Requirement already satisfied: six>=1.5 in /usr/local/lib/python3.10/dist-packages (from python-dateutil>=2.8.1->pandas) (1.16.0)\n"
          ]
        }
      ]
    },
    {
      "cell_type": "code",
      "execution_count": null,
      "metadata": {
        "id": "L4qRUzw-B-dG"
      },
      "outputs": [],
      "source": [
        "  # Configuração para não exibir os warnings\n",
        "import warnings\n",
        "warnings.filterwarnings(\"ignore\")\n",
        "\n",
        "# Imports necessários\n",
        "import pandas as pd\n",
        "import numpy as np\n",
        "import sklearn\n",
        "import matplotlib.pyplot as plt\n",
        "from sklearn.datasets import load_wine # para importar o dataset wine\n",
        "from sklearn.model_selection import train_test_split # para particionar em bases de treino e teste (holdout)\n",
        "from sklearn.model_selection import KFold # para preparar os folds da validação cruzada\n",
        "from sklearn.model_selection import cross_val_score # para executar a validação cruzada\n",
        "from sklearn.metrics import accuracy_score # para a exibição da acurácia do modelo\n",
        "from sklearn.neighbors import KNeighborsClassifier # algoritmo KNN\n",
        "from sklearn.tree import DecisionTreeClassifier # algoritmo Árvore de Classificação\n",
        "from sklearn.naive_bayes import GaussianNB # algoritmo Naive Bayes\n",
        "from sklearn.svm import SVC # algoritmo SVM"
      ]
    },
    {
      "cell_type": "code",
      "source": [
        "import pandas as pd\n",
        "tabela = pd.read_csv('/content/drive/MyDrive/credito.csv')\n",
        "print(tabela)\n"
      ],
      "metadata": {
        "colab": {
          "base_uri": "https://localhost:8080/"
        },
        "id": "z2jTKgpIDuJA",
        "outputId": "e34c7732-d84e-42dd-c635-3738b121fb87"
      },
      "execution_count": 2,
      "outputs": [
        {
          "output_type": "stream",
          "name": "stdout",
          "text": [
            "              id  default  idade sexo  dependentes         escolaridade  \\\n",
            "0      768805383        0     45    M            3         ensino medio   \n",
            "1      818770008        0     49    F            5             mestrado   \n",
            "2      713982108        0     51    M            3             mestrado   \n",
            "3      769911858        0     40    F            4         ensino medio   \n",
            "4      709106358        0     40    M            3  sem educacao formal   \n",
            "...          ...      ...    ...  ...          ...                  ...   \n",
            "10122  772366833        0     50    M            2             mestrado   \n",
            "10123  710638233        1     41    M            2                   na   \n",
            "10124  716506083        1     44    F            1         ensino medio   \n",
            "10125  717406983        1     30    M            2             mestrado   \n",
            "10126  714337233        1     43    F            2             mestrado   \n",
            "\n",
            "      estado_civil   salario_anual tipo_cartao  meses_de_relacionamento  \\\n",
            "0           casado     $60K - $80K        blue                       39   \n",
            "1         solteiro  menos que $40K        blue                       44   \n",
            "2           casado    $80K - $120K        blue                       36   \n",
            "3               na  menos que $40K        blue                       34   \n",
            "4           casado     $60K - $80K        blue                       21   \n",
            "...            ...             ...         ...                      ...   \n",
            "10122     solteiro     $40K - $60K        blue                       40   \n",
            "10123   divorciado     $40K - $60K        blue                       25   \n",
            "10124       casado  menos que $40K        blue                       36   \n",
            "10125           na     $40K - $60K        blue                       36   \n",
            "10126       casado  menos que $40K      silver                       25   \n",
            "\n",
            "       qtd_produtos  iteracoes_12m  meses_inativo_12m limite_credito  \\\n",
            "0                 5              3                  1      12.691,51   \n",
            "1                 6              2                  1       8.256,96   \n",
            "2                 4              0                  1       3.418,56   \n",
            "3                 3              1                  4       3.313,03   \n",
            "4                 5              0                  1       4.716,22   \n",
            "...             ...            ...                ...            ...   \n",
            "10122             3              3                  2       4.003,91   \n",
            "10123             4              3                  2       4.277,04   \n",
            "10124             5              4                  3       5.409,16   \n",
            "10125             4              3                  3       5.281,84   \n",
            "10126             6              4                  2      10.388,80   \n",
            "\n",
            "      valor_transacoes_12m  qtd_transacoes_12m  \n",
            "0                 1.144,90                  42  \n",
            "1                 1.291,45                  33  \n",
            "2                 1.887,72                  20  \n",
            "3                 1.171,56                  20  \n",
            "4                   816,08                  28  \n",
            "...                    ...                 ...  \n",
            "10122            15.476,26                 117  \n",
            "10123             8.764,88                  69  \n",
            "10124            10.291,78                  60  \n",
            "10125             8.395,62                  62  \n",
            "10126            10.294,96                  61  \n",
            "\n",
            "[10127 rows x 16 columns]\n"
          ]
        }
      ]
    },
    {
      "cell_type": "code",
      "source": [
        "print(tabela.info())"
      ],
      "metadata": {
        "colab": {
          "base_uri": "https://localhost:8080/"
        },
        "id": "IuuhRKOMF_tS",
        "outputId": "844bda7f-a6c0-4d60-c480-faadf7e05531"
      },
      "execution_count": null,
      "outputs": [
        {
          "output_type": "stream",
          "name": "stdout",
          "text": [
            "<class 'pandas.core.frame.DataFrame'>\n",
            "RangeIndex: 10127 entries, 0 to 10126\n",
            "Data columns (total 16 columns):\n",
            " #   Column                   Non-Null Count  Dtype \n",
            "---  ------                   --------------  ----- \n",
            " 0   id                       10127 non-null  int64 \n",
            " 1   default                  10127 non-null  int64 \n",
            " 2   idade                    10127 non-null  int64 \n",
            " 3   sexo                     10127 non-null  object\n",
            " 4   dependentes              10127 non-null  int64 \n",
            " 5   escolaridade             10127 non-null  object\n",
            " 6   estado_civil             10127 non-null  object\n",
            " 7   salario_anual            10127 non-null  object\n",
            " 8   tipo_cartao              10127 non-null  object\n",
            " 9   meses_de_relacionamento  10127 non-null  int64 \n",
            " 10  qtd_produtos             10127 non-null  int64 \n",
            " 11  iteracoes_12m            10127 non-null  int64 \n",
            " 12  meses_inativo_12m        10127 non-null  int64 \n",
            " 13  limite_credito           10127 non-null  object\n",
            " 14  valor_transacoes_12m     10127 non-null  object\n",
            " 15  qtd_transacoes_12m       10127 non-null  int64 \n",
            "dtypes: int64(9), object(7)\n",
            "memory usage: 1.2+ MB\n",
            "None\n"
          ]
        }
      ]
    },
    {
      "cell_type": "code",
      "source": [],
      "metadata": {
        "id": "1uPCgV14PYhu"
      },
      "execution_count": null,
      "outputs": []
    },
    {
      "cell_type": "code",
      "source": [
        "from sklearn.preprocessing import LabelEncoder\n",
        "# vai transformar as colunas de texto em números, ex: profissoes vai sair de cientista, professor, mecanico, etc para 0, 1, 2, etc\n",
        "codificador = LabelEncoder()\n",
        "\n",
        "# só não aplicamos na coluna de score_credito que é o nosso objetivo\n",
        "for coluna in tabela.columns:\n",
        "    if tabela[coluna].dtype == \"object\" and coluna != \"default\":\n",
        "        tabela[coluna] = codificador.fit_transform(tabela[coluna])\n",
        "\n",
        "# verificando se realmente todas as colunas foram modificadas\n",
        "print(tabela.info())"
      ],
      "metadata": {
        "colab": {
          "base_uri": "https://localhost:8080/"
        },
        "id": "PrFzrBR-Ifzu",
        "outputId": "34e867e8-4104-460b-9cfe-d014f9bcb926"
      },
      "execution_count": null,
      "outputs": [
        {
          "output_type": "stream",
          "name": "stdout",
          "text": [
            "<class 'pandas.core.frame.DataFrame'>\n",
            "RangeIndex: 10127 entries, 0 to 10126\n",
            "Data columns (total 16 columns):\n",
            " #   Column                   Non-Null Count  Dtype\n",
            "---  ------                   --------------  -----\n",
            " 0   id                       10127 non-null  int64\n",
            " 1   default                  10127 non-null  int64\n",
            " 2   idade                    10127 non-null  int64\n",
            " 3   sexo                     10127 non-null  int64\n",
            " 4   dependentes              10127 non-null  int64\n",
            " 5   escolaridade             10127 non-null  int64\n",
            " 6   estado_civil             10127 non-null  int64\n",
            " 7   salario_anual            10127 non-null  int64\n",
            " 8   tipo_cartao              10127 non-null  int64\n",
            " 9   meses_de_relacionamento  10127 non-null  int64\n",
            " 10  qtd_produtos             10127 non-null  int64\n",
            " 11  iteracoes_12m            10127 non-null  int64\n",
            " 12  meses_inativo_12m        10127 non-null  int64\n",
            " 13  limite_credito           10127 non-null  int64\n",
            " 14  valor_transacoes_12m     10127 non-null  int64\n",
            " 15  qtd_transacoes_12m       10127 non-null  int64\n",
            "dtypes: int64(16)\n",
            "memory usage: 1.2 MB\n",
            "None\n"
          ]
        }
      ]
    },
    {
      "cell_type": "code",
      "source": [
        "# se o nosso modelo chutasse tudo \"0\" (adimplente), qual seria a acurácia do modelo?\n",
        "contagem_default = tabela[\"default\"].value_counts()\n",
        "print(contagem_default[0] / sum(contagem_default))"
      ],
      "metadata": {
        "colab": {
          "base_uri": "https://localhost:8080/"
        },
        "id": "s60mddpLANBj",
        "outputId": "6f9d7a5e-cdbe-40b9-f4ce-8c43dfdb59c0"
      },
      "execution_count": null,
      "outputs": [
        {
          "output_type": "stream",
          "name": "stdout",
          "text": [
            "0.8393403772094401\n"
          ]
        }
      ]
    },
    {
      "cell_type": "code",
      "source": [
        "from sklearn.metrics import accuracy_score\n",
        "\n",
        "# calculamos as previsoes\n",
        "previsao_arvore = modelo_arvore.predict(x_teste)\n",
        "previsao_knn = modelo_knn.predict(x_teste.to_numpy())\n",
        "\n",
        "# comparamos as previsoes com o y_teste\n",
        "# esse score queremos o maior (maior acuracia, mas tb tem que ser maior do que o chute de tudo adimplente)\n",
        "print(accuracy_score(y_teste, previsao_arvore))\n",
        "print(accuracy_score(y_teste, previsao_knn))\n"
      ],
      "metadata": {
        "colab": {
          "base_uri": "https://localhost:8080/"
        },
        "id": "LlvYAylCAUKl",
        "outputId": "496cc112-5415-43c5-e4fb-25ef65698eff"
      },
      "execution_count": null,
      "outputs": [
        {
          "output_type": "stream",
          "name": "stdout",
          "text": [
            "0.9401118789075353\n",
            "0.8585060875287923\n"
          ]
        }
      ]
    },
    {
      "cell_type": "code",
      "source": [
        "# escolhendo quais colunas vamos usar para treinar o modelo\n",
        "# y é a coluna que queremos que o modelo calcule\n",
        "# x vai todas as colunas que vamos usar para prever o score de credito, não vamos usar a coluna id_cliente porque ela é um numero qualquer que nao ajuda a previsao\n",
        "x = tabela.drop([\"default\", \"id\"], axis=1)\n",
        "y = tabela[\"default\"]\n",
        "\n",
        "from sklearn.model_selection import train_test_split\n",
        "\n",
        "# separamos os dados em treino e teste. Treino vamos dar para os modelos aprenderem e teste vamos usar para ver se o modelo aprendeu corretamente\n",
        "x_treino, x_teste, y_treino, y_teste = train_test_split(x, y, test_size=0.3, random_state=1)"
      ],
      "metadata": {
        "id": "IpYY7Ta1SXW0"
      },
      "execution_count": null,
      "outputs": []
    },
    {
      "cell_type": "code",
      "source": [
        "# Criando os folds para a validação cruzada\n",
        "num_particoes = 20 # número de folds da validação cruzada\n",
        "kfold = KFold(n_splits=num_particoes, shuffle=True, random_state=8) # faz o particionamento em 10 folds"
      ],
      "metadata": {
        "id": "gZwtEKbS6Xev"
      },
      "execution_count": null,
      "outputs": []
    },
    {
      "cell_type": "code",
      "source": [
        "from sklearn.ensemble import RandomForestClassifier\n",
        "from sklearn.neighbors import KNeighborsClassifier\n",
        "\n",
        "modelo_arvore = RandomForestClassifier() # modelo arvore de decisao\n",
        "modelo_knn = KNeighborsClassifier() # modelo do KNN (nearest neighbors - vizinhos mais proximos)\n",
        "\n",
        "# treinando os modelos\n",
        "modelo_arvore.fit(x_treino, y_treino)\n",
        "modelo_knn.fit(x_treino, y_treino)\n"
      ],
      "metadata": {
        "colab": {
          "base_uri": "https://localhost:8080/",
          "height": 75
        },
        "id": "XZNktz2jSiba",
        "outputId": "f4f4f009-f1b3-4d26-c4d5-d9e0114c1bb4"
      },
      "execution_count": null,
      "outputs": [
        {
          "output_type": "execute_result",
          "data": {
            "text/plain": [
              "KNeighborsClassifier()"
            ],
            "text/html": [
              "<style>#sk-container-id-2 {color: black;background-color: white;}#sk-container-id-2 pre{padding: 0;}#sk-container-id-2 div.sk-toggleable {background-color: white;}#sk-container-id-2 label.sk-toggleable__label {cursor: pointer;display: block;width: 100%;margin-bottom: 0;padding: 0.3em;box-sizing: border-box;text-align: center;}#sk-container-id-2 label.sk-toggleable__label-arrow:before {content: \"▸\";float: left;margin-right: 0.25em;color: #696969;}#sk-container-id-2 label.sk-toggleable__label-arrow:hover:before {color: black;}#sk-container-id-2 div.sk-estimator:hover label.sk-toggleable__label-arrow:before {color: black;}#sk-container-id-2 div.sk-toggleable__content {max-height: 0;max-width: 0;overflow: hidden;text-align: left;background-color: #f0f8ff;}#sk-container-id-2 div.sk-toggleable__content pre {margin: 0.2em;color: black;border-radius: 0.25em;background-color: #f0f8ff;}#sk-container-id-2 input.sk-toggleable__control:checked~div.sk-toggleable__content {max-height: 200px;max-width: 100%;overflow: auto;}#sk-container-id-2 input.sk-toggleable__control:checked~label.sk-toggleable__label-arrow:before {content: \"▾\";}#sk-container-id-2 div.sk-estimator input.sk-toggleable__control:checked~label.sk-toggleable__label {background-color: #d4ebff;}#sk-container-id-2 div.sk-label input.sk-toggleable__control:checked~label.sk-toggleable__label {background-color: #d4ebff;}#sk-container-id-2 input.sk-hidden--visually {border: 0;clip: rect(1px 1px 1px 1px);clip: rect(1px, 1px, 1px, 1px);height: 1px;margin: -1px;overflow: hidden;padding: 0;position: absolute;width: 1px;}#sk-container-id-2 div.sk-estimator {font-family: monospace;background-color: #f0f8ff;border: 1px dotted black;border-radius: 0.25em;box-sizing: border-box;margin-bottom: 0.5em;}#sk-container-id-2 div.sk-estimator:hover {background-color: #d4ebff;}#sk-container-id-2 div.sk-parallel-item::after {content: \"\";width: 100%;border-bottom: 1px solid gray;flex-grow: 1;}#sk-container-id-2 div.sk-label:hover label.sk-toggleable__label {background-color: #d4ebff;}#sk-container-id-2 div.sk-serial::before {content: \"\";position: absolute;border-left: 1px solid gray;box-sizing: border-box;top: 0;bottom: 0;left: 50%;z-index: 0;}#sk-container-id-2 div.sk-serial {display: flex;flex-direction: column;align-items: center;background-color: white;padding-right: 0.2em;padding-left: 0.2em;position: relative;}#sk-container-id-2 div.sk-item {position: relative;z-index: 1;}#sk-container-id-2 div.sk-parallel {display: flex;align-items: stretch;justify-content: center;background-color: white;position: relative;}#sk-container-id-2 div.sk-item::before, #sk-container-id-2 div.sk-parallel-item::before {content: \"\";position: absolute;border-left: 1px solid gray;box-sizing: border-box;top: 0;bottom: 0;left: 50%;z-index: -1;}#sk-container-id-2 div.sk-parallel-item {display: flex;flex-direction: column;z-index: 1;position: relative;background-color: white;}#sk-container-id-2 div.sk-parallel-item:first-child::after {align-self: flex-end;width: 50%;}#sk-container-id-2 div.sk-parallel-item:last-child::after {align-self: flex-start;width: 50%;}#sk-container-id-2 div.sk-parallel-item:only-child::after {width: 0;}#sk-container-id-2 div.sk-dashed-wrapped {border: 1px dashed gray;margin: 0 0.4em 0.5em 0.4em;box-sizing: border-box;padding-bottom: 0.4em;background-color: white;}#sk-container-id-2 div.sk-label label {font-family: monospace;font-weight: bold;display: inline-block;line-height: 1.2em;}#sk-container-id-2 div.sk-label-container {text-align: center;}#sk-container-id-2 div.sk-container {/* jupyter's `normalize.less` sets `[hidden] { display: none; }` but bootstrap.min.css set `[hidden] { display: none !important; }` so we also need the `!important` here to be able to override the default hidden behavior on the sphinx rendered scikit-learn.org. See: https://github.com/scikit-learn/scikit-learn/issues/21755 */display: inline-block !important;position: relative;}#sk-container-id-2 div.sk-text-repr-fallback {display: none;}</style><div id=\"sk-container-id-2\" class=\"sk-top-container\"><div class=\"sk-text-repr-fallback\"><pre>KNeighborsClassifier()</pre><b>In a Jupyter environment, please rerun this cell to show the HTML representation or trust the notebook. <br />On GitHub, the HTML representation is unable to render, please try loading this page with nbviewer.org.</b></div><div class=\"sk-container\" hidden><div class=\"sk-item\"><div class=\"sk-estimator sk-toggleable\"><input class=\"sk-toggleable__control sk-hidden--visually\" id=\"sk-estimator-id-2\" type=\"checkbox\" checked><label for=\"sk-estimator-id-2\" class=\"sk-toggleable__label sk-toggleable__label-arrow\">KNeighborsClassifier</label><div class=\"sk-toggleable__content\"><pre>KNeighborsClassifier()</pre></div></div></div></div></div>"
            ]
          },
          "metadata": {},
          "execution_count": 35
        }
      ]
    },
    {
      "cell_type": "code",
      "source": [
        "# Modelagem\n",
        "\n",
        "# Definindo uma seed global para esta célula de código\n",
        "np.random.seed(8)\n",
        "\n",
        "# Listas para armazenar os modelos, os resultados e os nomes dos modelos\n",
        "models = []\n",
        "results = []\n",
        "names = []\n",
        "\n",
        "# Preparando os modelos e adicionando-os em uma lista\n",
        "models.append(('KNN', KNeighborsClassifier()))\n",
        "models.append(('CART', DecisionTreeClassifier()))\n",
        "models.append(('NB', GaussianNB()))\n",
        "models.append(('SVM', SVC()))\n",
        "\n",
        "# Avaliando um modelo por vez\n",
        "for name, model in models:\n",
        "  cv_results = cross_val_score(model, x_treino, y_treino, cv=kfold, scoring='accuracy')\n",
        "  results.append(cv_results)\n",
        "  names.append(name)\n",
        "  msg = \"%s: %f (%f)\" % (name, cv_results.mean(), cv_results.std()) # média e desvio padrão dos 10 resultados da validação cruzada\n",
        "  print(msg)\n",
        "\n",
        "# Boxplot de comparação dos modelos\n",
        "fig = plt.figure()\n",
        "fig.suptitle('Comparação da Acurácia dos Modelos')\n",
        "ax = fig.add_subplot(111)\n",
        "plt.boxplot(results)\n",
        "ax.set_xticklabels(names)\n",
        "plt.show()"
      ],
      "metadata": {
        "colab": {
          "base_uri": "https://localhost:8080/",
          "height": 547
        },
        "id": "Bl_P7ESH7Gl2",
        "outputId": "49849566-e4f8-4238-8127-78a5e6123f78"
      },
      "execution_count": null,
      "outputs": [
        {
          "output_type": "stream",
          "name": "stdout",
          "text": [
            "KNN: 0.859200 (0.019030)\n",
            "CART: 0.913664 (0.015592)\n",
            "NB: 0.860902 (0.019950)\n",
            "SVM: 0.839320 (0.021984)\n"
          ]
        },
        {
          "output_type": "display_data",
          "data": {
            "text/plain": [
              "<Figure size 640x480 with 1 Axes>"
            ],
            "image/png": "[encoded data removed]"
          },
          "metadata": {}
        }
      ]
    },
    {
      "cell_type": "markdown",
      "source": [
        "O modelo treinado com a Arvore de Classificação apresentou o melhor resultado (91% de acurácia média e desvio-padrão de 1,6%) e será o algoritmo escolhido"
      ],
      "metadata": {
        "id": "wi3HeVj1Eiok"
      }
    },
    {
      "cell_type": "code",
      "source": [
        "# Treinando 100% da base para treino\n",
        "\n",
        "model = DecisionTreeClassifier()\n",
        "model.fit(x_treino, y_treino)\n",
        "\n",
        "# Fazendo as predições com o conjunto de teste\n",
        "predictions = model.predict(x_teste)\n",
        "\n",
        "# Estimando a acurácia no conjunto de teste\n",
        "print(accuracy_score(y_teste, predictions))\n"
      ],
      "metadata": {
        "colab": {
          "base_uri": "https://localhost:8080/"
        },
        "id": "Hr5pNM5SDIcR",
        "outputId": "4bbb2bef-8d40-4eea-c495-6105d146a22b"
      },
      "execution_count": null,
      "outputs": [
        {
          "output_type": "stream",
          "name": "stdout",
          "text": [
            "0.9157617637380717\n"
          ]
        }
      ]
    },
    {
      "cell_type": "code",
      "source": [
        "# quais as caracteristicas mais importantes para definir o risco de credito do cliente?\n",
        "colunas = list(x_teste.columns)\n",
        "importancia = pd.DataFrame(index=colunas, data=modelo_arvore.feature_importances_)\n",
        "importancia = importancia * 100\n",
        "print(importancia)"
      ],
      "metadata": {
        "colab": {
          "base_uri": "https://localhost:8080/"
        },
        "id": "f2MV98uXTBM3",
        "outputId": "0f66070d-c9ce-444d-acc0-d863b9ebc767"
      },
      "execution_count": null,
      "outputs": [
        {
          "output_type": "stream",
          "name": "stdout",
          "text": [
            "                                 0\n",
            "idade                     6.243412\n",
            "sexo                      1.384830\n",
            "dependentes               2.553191\n",
            "escolaridade              2.484876\n",
            "estado_civil              2.317326\n",
            "salario_anual             2.247578\n",
            "tipo_cartao               0.579680\n",
            "meses_de_relacionamento   4.860868\n",
            "qtd_produtos              7.466683\n",
            "iteracoes_12m             4.710249\n",
            "meses_inativo_12m         4.361366\n",
            "limite_credito            8.293225\n",
            "valor_transacoes_12m     26.650372\n",
            "qtd_transacoes_12m       25.846345\n"
          ]
        }
      ]
    }
  ]
}