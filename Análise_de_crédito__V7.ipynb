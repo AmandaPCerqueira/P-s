{
  "nbformat": 4,
  "nbformat_minor": 0,
  "metadata": {
    "colab": {
      "provenance": [],
      "mount_file_id": "1O5t4ZuEY7PHRRMTesKv0IJ68Czlc-Jjc",
      "authorship_tag": "ABX9TyP+8oEwg9UH1GInR4cOWUu9",
      "include_colab_link": true
    },
    "kernelspec": {
      "name": "python3",
      "display_name": "Python 3"
    },
    "language_info": {
      "name": "python"
    }
  },
  "cells": [
    {
      "cell_type": "markdown",
      "metadata": {
        "id": "view-in-github",
        "colab_type": "text"
      },
      "source": [
        "<a href=\"https://colab.research.google.com/github/AmandaPCerqueira/P-s/blob/main/An%C3%A1lise_de_cr%C3%A9dito__V7.ipynb\" target=\"_parent\"><img src=\"https://colab.research.google.com/assets/colab-badge.svg\" alt=\"Open In Colab\"/></a>"
      ]
    },
    {
      "cell_type": "markdown",
      "source": [
        "# **Análise de risco de crédito do cliente bancário**\n",
        "\n",
        "Problema: Evitar a inadimplência nas operações de crédito bancário\n",
        "\n",
        "Objetivo: O modelo deverá ser capaz de prever uma possível inadimplência, com base no perfil do cliente(dados pessoais e vida finaceira), possibilitando ao banco agir de forma preventiva, visando garantir a saúde financeira da instituição.  \n",
        "\n",
        "A coluna do dataset que querermos prever é a \"default\", onde 1 representa o SIM (possível inadimplente) e 0, representa o NÃO (adimplente)\n",
        "\n"
      ],
      "metadata": {
        "id": "ZOysaSbLBXTI"
      }
    },
    {
      "cell_type": "markdown",
      "source": [
        "Instalando as bibliotecas necessárias ao modelo"
      ],
      "metadata": {
        "id": "CKs2PucjTW7l"
      }
    },
    {
      "cell_type": "code",
      "source": [
        "!pip install pandas scikit_learn ensemble matplotlib numpy"
      ],
      "metadata": {
        "id": "vQbXQbS4LANk"
      },
      "execution_count": null,
      "outputs": []
    },
    {
      "cell_type": "markdown",
      "source": [
        "Fazendo os imports necessários"
      ],
      "metadata": {
        "id": "2-QKKDtsTkzv"
      }
    },
    {
      "cell_type": "code",
      "execution_count": 3,
      "metadata": {
        "id": "L4qRUzw-B-dG"
      },
      "outputs": [],
      "source": [
        "# Configuração para não exibir os warnings\n",
        "import warnings\n",
        "warnings.filterwarnings(\"ignore\")\n",
        "\n",
        "# Imports necessários\n",
        "import pandas as pd\n",
        "import numpy as np\n",
        "import matplotlib.pyplot as plt\n",
        "from sklearn import metrics\n",
        "from sklearn import linear_model, decomposition, datasets\n",
        "from sklearn.preprocessing import StandardScaler\n",
        "from sklearn.preprocessing import MinMaxScaler\n",
        "from sklearn.model_selection import train_test_split\n",
        "from sklearn.model_selection import KFold\n",
        "from sklearn.model_selection import StratifiedKFold\n",
        "from sklearn.model_selection import cross_val_score\n",
        "from sklearn.model_selection import GridSearchCV\n",
        "from sklearn.metrics import accuracy_score\n",
        "from sklearn.pipeline import Pipeline\n",
        "from sklearn.linear_model import LogisticRegression\n",
        "from sklearn.tree import DecisionTreeClassifier\n",
        "from sklearn.neighbors import KNeighborsClassifier\n",
        "from sklearn.naive_bayes import GaussianNB\n",
        "from sklearn.svm import SVC\n",
        "from sklearn.ensemble import BaggingClassifier\n",
        "from sklearn.ensemble import RandomForestClassifier\n",
        "from sklearn.ensemble import ExtraTreesClassifier\n",
        "from sklearn.ensemble import VotingClassifier\n",
        "from sklearn.ensemble import AdaBoostClassifier\n",
        "from sklearn.ensemble import GradientBoostingClassifier\n",
        "from sklearn.feature_selection import SelectKBest # para a Seleção Univariada\n",
        "from sklearn.feature_selection import f_classif # para o teste ANOVA da Seleção Univariada\n",
        "from sklearn.feature_selection import RFE # para a Eliminação Recursiva de Atributos\n",
        "from sklearn.linear_model import LogisticRegression # Regressão Logística, para a Eliminação Recursiva de Atributos"
      ]
    },
    {
      "cell_type": "markdown",
      "source": [
        "Importando o dataset (o arquivo foi colocado em um repositório do meu github e foi referenciado abaixo na sua versão raw)\n",
        "\n"
      ],
      "metadata": {
        "id": "RcvvVbdnT0Ir"
      }
    },
    {
      "cell_type": "code",
      "source": [
        "import pandas as pd\n",
        "tabela = pd.read_csv('https://raw.githubusercontent.com/AmandaPCerqueira/P-s/main/credito.csv')\n",
        "print(tabela)\n"
      ],
      "metadata": {
        "colab": {
          "base_uri": "https://localhost:8080/"
        },
        "id": "z2jTKgpIDuJA",
        "outputId": "31619c9e-369e-44bb-e9e5-eaf5c5754f2d"
      },
      "execution_count": 4,
      "outputs": [
        {
          "output_type": "stream",
          "name": "stdout",
          "text": [
            "              id  default  idade sexo  dependentes         escolaridade  \\\n",
            "0      768805383        0     45    M            3         ensino medio   \n",
            "1      818770008        0     49    F            5             mestrado   \n",
            "2      713982108        0     51    M            3             mestrado   \n",
            "3      769911858        0     40    F            4         ensino medio   \n",
            "4      709106358        0     40    M            3  sem educacao formal   \n",
            "...          ...      ...    ...  ...          ...                  ...   \n",
            "10122  772366833        0     50    M            2             mestrado   \n",
            "10123  710638233        1     41    M            2                   na   \n",
            "10124  716506083        1     44    F            1         ensino medio   \n",
            "10125  717406983        1     30    M            2             mestrado   \n",
            "10126  714337233        1     43    F            2             mestrado   \n",
            "\n",
            "      estado_civil   salario_anual tipo_cartao  meses_de_relacionamento  \\\n",
            "0           casado     $60K - $80K        blue                       39   \n",
            "1         solteiro  menos que $40K        blue                       44   \n",
            "2           casado    $80K - $120K        blue                       36   \n",
            "3               na  menos que $40K        blue                       34   \n",
            "4           casado     $60K - $80K        blue                       21   \n",
            "...            ...             ...         ...                      ...   \n",
            "10122     solteiro     $40K - $60K        blue                       40   \n",
            "10123   divorciado     $40K - $60K        blue                       25   \n",
            "10124       casado  menos que $40K        blue                       36   \n",
            "10125           na     $40K - $60K        blue                       36   \n",
            "10126       casado  menos que $40K      silver                       25   \n",
            "\n",
            "       qtd_produtos  iteracoes_12m  meses_inativo_12m limite_credito  \\\n",
            "0                 5              3                  1      12.691,51   \n",
            "1                 6              2                  1       8.256,96   \n",
            "2                 4              0                  1       3.418,56   \n",
            "3                 3              1                  4       3.313,03   \n",
            "4                 5              0                  1       4.716,22   \n",
            "...             ...            ...                ...            ...   \n",
            "10122             3              3                  2       4.003,91   \n",
            "10123             4              3                  2       4.277,04   \n",
            "10124             5              4                  3       5.409,16   \n",
            "10125             4              3                  3       5.281,84   \n",
            "10126             6              4                  2      10.388,80   \n",
            "\n",
            "      valor_transacoes_12m  qtd_transacoes_12m  \n",
            "0                 1.144,90                  42  \n",
            "1                 1.291,45                  33  \n",
            "2                 1.887,72                  20  \n",
            "3                 1.171,56                  20  \n",
            "4                   816,08                  28  \n",
            "...                    ...                 ...  \n",
            "10122            15.476,26                 117  \n",
            "10123             8.764,88                  69  \n",
            "10124            10.291,78                  60  \n",
            "10125             8.395,62                  62  \n",
            "10126            10.294,96                  61  \n",
            "\n",
            "[10127 rows x 16 columns]\n"
          ]
        }
      ]
    },
    {
      "cell_type": "markdown",
      "source": [
        "Verificando as informação do dataset para início do tratamento de dados\n",
        "\n"
      ],
      "metadata": {
        "id": "UaQq3FP3UFzQ"
      }
    },
    {
      "cell_type": "code",
      "source": [
        "print(tabela.info())"
      ],
      "metadata": {
        "colab": {
          "base_uri": "https://localhost:8080/"
        },
        "id": "IuuhRKOMF_tS",
        "outputId": "572fa4ac-7b67-4ec7-df57-fc4f23f0469c"
      },
      "execution_count": 5,
      "outputs": [
        {
          "output_type": "stream",
          "name": "stdout",
          "text": [
            "<class 'pandas.core.frame.DataFrame'>\n",
            "RangeIndex: 10127 entries, 0 to 10126\n",
            "Data columns (total 16 columns):\n",
            " #   Column                   Non-Null Count  Dtype \n",
            "---  ------                   --------------  ----- \n",
            " 0   id                       10127 non-null  int64 \n",
            " 1   default                  10127 non-null  int64 \n",
            " 2   idade                    10127 non-null  int64 \n",
            " 3   sexo                     10127 non-null  object\n",
            " 4   dependentes              10127 non-null  int64 \n",
            " 5   escolaridade             10127 non-null  object\n",
            " 6   estado_civil             10127 non-null  object\n",
            " 7   salario_anual            10127 non-null  object\n",
            " 8   tipo_cartao              10127 non-null  object\n",
            " 9   meses_de_relacionamento  10127 non-null  int64 \n",
            " 10  qtd_produtos             10127 non-null  int64 \n",
            " 11  iteracoes_12m            10127 non-null  int64 \n",
            " 12  meses_inativo_12m        10127 non-null  int64 \n",
            " 13  limite_credito           10127 non-null  object\n",
            " 14  valor_transacoes_12m     10127 non-null  object\n",
            " 15  qtd_transacoes_12m       10127 non-null  int64 \n",
            "dtypes: int64(9), object(7)\n",
            "memory usage: 1.2+ MB\n",
            "None\n"
          ]
        }
      ]
    },
    {
      "cell_type": "markdown",
      "source": [
        "Foi identificado que não tem temos nenhuma informação vazia ou com formato errado, porém, como se trata de um problema de classificação, será necessário tratar as colunas com o tipo de informação \"object\"\n",
        "\n",
        "Esse tratamento será realizado com o LabelEncoder"
      ],
      "metadata": {
        "id": "du1ZYxsOUa4y"
      }
    },
    {
      "cell_type": "code",
      "source": [
        "from sklearn.preprocessing import LabelEncoder\n",
        "# vai transformar as colunas de texto em números\n",
        "codificador = LabelEncoder()\n",
        "\n",
        "for coluna in tabela.columns:\n",
        "    if tabela[coluna].dtype == \"object\":\n",
        "        tabela[coluna] = codificador.fit_transform(tabela[coluna])\n",
        "\n",
        "# verificando se realmente todas as colunas foram modificadas\n",
        "print(tabela.info())"
      ],
      "metadata": {
        "colab": {
          "base_uri": "https://localhost:8080/"
        },
        "id": "kSEW-zoKS8JO",
        "outputId": "e6138935-a07f-4a20-9bd2-7d3a0b5cd3a8"
      },
      "execution_count": 6,
      "outputs": [
        {
          "output_type": "stream",
          "name": "stdout",
          "text": [
            "<class 'pandas.core.frame.DataFrame'>\n",
            "RangeIndex: 10127 entries, 0 to 10126\n",
            "Data columns (total 16 columns):\n",
            " #   Column                   Non-Null Count  Dtype\n",
            "---  ------                   --------------  -----\n",
            " 0   id                       10127 non-null  int64\n",
            " 1   default                  10127 non-null  int64\n",
            " 2   idade                    10127 non-null  int64\n",
            " 3   sexo                     10127 non-null  int64\n",
            " 4   dependentes              10127 non-null  int64\n",
            " 5   escolaridade             10127 non-null  int64\n",
            " 6   estado_civil             10127 non-null  int64\n",
            " 7   salario_anual            10127 non-null  int64\n",
            " 8   tipo_cartao              10127 non-null  int64\n",
            " 9   meses_de_relacionamento  10127 non-null  int64\n",
            " 10  qtd_produtos             10127 non-null  int64\n",
            " 11  iteracoes_12m            10127 non-null  int64\n",
            " 12  meses_inativo_12m        10127 non-null  int64\n",
            " 13  limite_credito           10127 non-null  int64\n",
            " 14  valor_transacoes_12m     10127 non-null  int64\n",
            " 15  qtd_transacoes_12m       10127 non-null  int64\n",
            "dtypes: int64(16)\n",
            "memory usage: 1.2 MB\n",
            "None\n"
          ]
        }
      ]
    },
    {
      "cell_type": "markdown",
      "source": [
        "Antes de treinar o modelo, utilizaremos um exemplo simples que será referência para o cálculo de acurácia. O modelo deverá ter uma acurácia maior que o exemplo para ser considerado aceito"
      ],
      "metadata": {
        "id": "KBWx3JNfz_Ji"
      }
    },
    {
      "cell_type": "code",
      "source": [
        "# se o nosso modelo chutasse tudo \"0\" (adimplente), qual seria a acurácia do modelo?\n",
        "contagem_default = tabela[\"default\"].value_counts()\n",
        "print(contagem_default[0] / sum(contagem_default))"
      ],
      "metadata": {
        "colab": {
          "base_uri": "https://localhost:8080/"
        },
        "id": "s60mddpLANBj",
        "outputId": "12f07f96-e89f-4838-fb81-b89891e750ea"
      },
      "execution_count": 7,
      "outputs": [
        {
          "output_type": "stream",
          "name": "stdout",
          "text": [
            "0.8393403772094401\n"
          ]
        }
      ]
    },
    {
      "cell_type": "markdown",
      "source": [
        "Escolhendo a base de treino do modelo"
      ],
      "metadata": {
        "id": "F_Jp74au11wn"
      }
    },
    {
      "cell_type": "code",
      "source": [
        "#Separação em conjunto de treino e conjunto de teste com holdout\n",
        "\n",
        "test_size = 0.30 # tamanho do conjunto de teste\n",
        "seed = 8 # semente aleatória\n",
        "\n",
        "# Separação em conjuntos de treino e teste\n",
        "array = tabela.values\n",
        "X = array[:,0:5]\n",
        "y = array[:,5]\n",
        "X_train, X_test, y_train, y_test = train_test_split(X, y,\n",
        "    test_size=test_size, shuffle=True, random_state=seed, stratify=y) # holdout com estratificação\n",
        "\n",
        "# Parâmetros e partições da validação cruzada\n",
        "scoring = 'accuracy'\n",
        "num_particoes = 10\n",
        "kfold = StratifiedKFold(n_splits=num_particoes, shuffle=True, random_state=seed) # validação cruzada com estratificação\n",
        "\n",
        "print (X)"
      ],
      "metadata": {
        "colab": {
          "base_uri": "https://localhost:8080/"
        },
        "id": "0aaCAc4DyOTY",
        "outputId": "69b7b4d5-4aaf-4c55-81ea-5206525f0bce"
      },
      "execution_count": 18,
      "outputs": [
        {
          "output_type": "stream",
          "name": "stdout",
          "text": [
            "[[768805383         0        45         1         3]\n",
            " [818770008         0        49         0         5]\n",
            " [713982108         0        51         1         3]\n",
            " ...\n",
            " [716506083         1        44         0         1]\n",
            " [717406983         1        30         1         2]\n",
            " [714337233         1        43         0         2]]\n"
          ]
        }
      ]
    },
    {
      "cell_type": "code",
      "source": [
        "# escolhendo quais colunas vamos usar para treinar o modelo\n",
        "# y é a coluna que queremos que o modelo calcule\n",
        "# x vai todas as colunas que vamos usar para prever o default, não vamos usar a coluna id_cliente porque ela é um numero qualquer que não ajuda a previsao\n",
        "x = tabela.drop([\"default\", \"id\"], axis=1)\n",
        "y = tabela[\"default\"]\n",
        "\n",
        "from sklearn.model_selection import train_test_split\n",
        "\n",
        "# separamos os dados em treino e teste. Treino vamos dar para os modelos aprenderem e teste vamos usar para ver se o modelo aprendeu corretamente\n",
        "x_treino, x_teste, y_treino, y_teste = train_test_split(x, y, test_size=0.3, random_state=1)\n",
        "\n",
        "print(tabela)"
      ],
      "metadata": {
        "id": "IpYY7Ta1SXW0",
        "colab": {
          "base_uri": "https://localhost:8080/"
        },
        "outputId": "3d0d53b4-3c91-4784-dedd-b0ca8947f6bb"
      },
      "execution_count": 19,
      "outputs": [
        {
          "output_type": "stream",
          "name": "stdout",
          "text": [
            "              id  default  idade  sexo  dependentes  escolaridade  \\\n",
            "0      768805383        0     45     1            3             1   \n",
            "1      818770008        0     49     0            5             3   \n",
            "2      713982108        0     51     1            3             3   \n",
            "3      769911858        0     40     0            4             1   \n",
            "4      709106358        0     40     1            3             5   \n",
            "...          ...      ...    ...   ...          ...           ...   \n",
            "10122  772366833        0     50     1            2             3   \n",
            "10123  710638233        1     41     1            2             4   \n",
            "10124  716506083        1     44     0            1             1   \n",
            "10125  717406983        1     30     1            2             3   \n",
            "10126  714337233        1     43     0            2             3   \n",
            "\n",
            "       estado_civil  salario_anual  tipo_cartao  meses_de_relacionamento  \\\n",
            "0                 0              2            0                       39   \n",
            "1                 3              4            0                       44   \n",
            "2                 0              3            0                       36   \n",
            "3                 2              4            0                       34   \n",
            "4                 0              2            0                       21   \n",
            "...             ...            ...          ...                      ...   \n",
            "10122             3              1            0                       40   \n",
            "10123             1              1            0                       25   \n",
            "10124             0              4            0                       36   \n",
            "10125             2              1            0                       36   \n",
            "10126             0              4            3                       25   \n",
            "\n",
            "       qtd_produtos  iteracoes_12m  meses_inativo_12m  limite_credito  \\\n",
            "0                 5              3                  1            1545   \n",
            "1                 6              2                  1            8712   \n",
            "2                 4              0                  1            5729   \n",
            "3                 3              1                  4            5602   \n",
            "4                 5              0                  1            7088   \n",
            "...             ...            ...                ...             ...   \n",
            "10122             3              3                  2            6545   \n",
            "10123             4              3                  2            6781   \n",
            "10124             5              4                  3            7506   \n",
            "10125             4              3                  3            7426   \n",
            "10126             6              4                  2            1081   \n",
            "\n",
            "       valor_transacoes_12m  qtd_transacoes_12m  \n",
            "0                       120                  42  \n",
            "1                       359                  33  \n",
            "2                      1783                  20  \n",
            "3                       152                  20  \n",
            "4                      9886                  28  \n",
            "...                     ...                 ...  \n",
            "10122                  2616                 117  \n",
            "10123                  9834                  69  \n",
            "10124                  2035                  60  \n",
            "10125                  9741                  62  \n",
            "10126                  2036                  61  \n",
            "\n",
            "[10127 rows x 16 columns]\n"
          ]
        }
      ]
    },
    {
      "cell_type": "markdown",
      "source": [
        "Será utilizada a validação cruzada objetivando uma melhoria na precisão do modelo e redução da variância, buscando também evitar o overfitting ou underfitting"
      ],
      "metadata": {
        "id": "QpkkoBWDhYk0"
      }
    },
    {
      "cell_type": "code",
      "source": [
        "# Criando os folds para a validação cruzada\n",
        "num_particoes = 10 # número de folds da validação cruzada\n",
        "kfold = KFold(n_splits=num_particoes, shuffle=True, random_state=8) # faz o particionamento em 10 folds"
      ],
      "metadata": {
        "id": "qz3ZPStNhPQk"
      },
      "execution_count": 20,
      "outputs": []
    },
    {
      "cell_type": "markdown",
      "source": [
        "Identificação de variáveis relevantes"
      ],
      "metadata": {
        "id": "Uh8Vwqg-7tsr"
      }
    },
    {
      "cell_type": "code",
      "source": [
        "\n",
        "# SelectKBest\n",
        "\n",
        "# Seleção de atributos com SelectKBest\n",
        "best_var = SelectKBest(score_func=f_classif, k=3)\n",
        "\n",
        "# Executa a função de pontuação em (X, y) e obtém os atributos selecionados\n",
        "fit = best_var.fit(X, y)\n",
        "\n",
        "# Reduz X para os atributos selecionados\n",
        "features = fit.transform(X)\n",
        "\n",
        "# Resultados\n",
        "print('\\nNúmero original de atributos:', X.shape[1])\n",
        "print('\\nNúmero reduzido de atributos:', features.shape[1])\n",
        "\n",
        "# Exibe os atributos orginais\n",
        "print(\"\\nAtributos Originais:\", tabela.columns[10:15])\n",
        "\n",
        "# Exibe as pontuações de cada atributos e os 4 escolhidas (com as pontuações mais altas)\n",
        "np.set_printoptions(precision=3) # 3 casas decimais\n",
        "print(\"\\nScores dos Atributos Originais:\", fit.scores_)\n",
        "print(\"\\nAtributos Selecionados:\", best_var.get_feature_names_out(input_features=tabela.columns[10:15]))\n",
        "#print (X)"
      ],
      "metadata": {
        "colab": {
          "base_uri": "https://localhost:8080/"
        },
        "id": "4Xe_W0BJy4uY",
        "outputId": "ebbae7ab-c078-46b0-ae90-652f86e270ae"
      },
      "execution_count": 24,
      "outputs": [
        {
          "output_type": "stream",
          "name": "stdout",
          "text": [
            "\n",
            "Número original de atributos: 5\n",
            "\n",
            "Número reduzido de atributos: 3\n",
            "\n",
            "Atributos Originais: Index(['qtd_produtos', 'iteracoes_12m', 'meses_inativo_12m', 'limite_credito',\n",
            "       'valor_transacoes_12m'],\n",
            "      dtype='object')\n",
            "\n",
            "Scores dos Atributos Originais: [21.874    inf  3.356 14.085  3.653]\n",
            "\n",
            "Atributos Selecionados: ['qtd_produtos' 'iteracoes_12m' 'limite_credito']\n"
          ]
        }
      ]
    },
    {
      "cell_type": "code",
      "source": [
        "\n",
        "# Importância de Atributos com ExtraTrees\n",
        "\n",
        "# Criação do modelo para seleção de atributos\n",
        "modelo = ExtraTreesClassifier(n_estimators=100)\n",
        "modelo.fit(X,y)\n",
        "\n",
        "# Exibe os atributos orginais\n",
        "print(\"\\nAtributos Originais:\", tabela.columns[1:15])\n",
        "\n",
        "# Exibe a pontuação de importância para cada atributo (quanto maior a pontuação, mais importante é o atributo).\n",
        "print(modelo.feature_importances_)"
      ],
      "metadata": {
        "colab": {
          "base_uri": "https://localhost:8080/"
        },
        "id": "FvjI64STzaQo",
        "outputId": "e317390a-93f2-4b4a-b0b6-92bf53b0fb13"
      },
      "execution_count": 25,
      "outputs": [
        {
          "output_type": "stream",
          "name": "stdout",
          "text": [
            "\n",
            "Atributos Originais: Index(['default', 'idade', 'sexo', 'dependentes', 'escolaridade',\n",
            "       'estado_civil', 'salario_anual', 'tipo_cartao',\n",
            "       'meses_de_relacionamento', 'qtd_produtos', 'iteracoes_12m',\n",
            "       'meses_inativo_12m', 'limite_credito', 'valor_transacoes_12m'],\n",
            "      dtype='object')\n",
            "[1.875e-03 9.964e-01 7.488e-04 6.092e-04 3.944e-04]\n"
          ]
        }
      ]
    },
    {
      "cell_type": "markdown",
      "source": [
        "Criação e Avaliação dos modelos: linha base"
      ],
      "metadata": {
        "id": "FS4yPoEA7xDz"
      }
    },
    {
      "cell_type": "code",
      "source": [
        "np.random.seed(8) # definindo uma semente global\n",
        "\n",
        "# Lista que armazenará os modelos\n",
        "models = []\n",
        "\n",
        "# Criando os modelos e adicionando-os na lista de modelos\n",
        "models.append(('LR', LogisticRegression(max_iter=200)))\n",
        "models.append(('KNN', KNeighborsClassifier()))\n",
        "models.append(('CART', DecisionTreeClassifier()))\n",
        "models.append(('NB', GaussianNB()))\n",
        "models.append(('SVM', SVC()))\n",
        "\n",
        "# Definindo os parâmetros do classificador base para o BaggingClassifier\n",
        "base = DecisionTreeClassifier()\n",
        "num_trees = 100\n",
        "max_features = 3\n",
        "\n",
        "# Criando os modelos para o VotingClassifier\n",
        "bases = []\n",
        "model1 = LogisticRegression(max_iter=200)\n",
        "bases.append(('logistic', model1))\n",
        "model2 = DecisionTreeClassifier()\n",
        "bases.append(('cart', model2))\n",
        "model3 = SVC()\n",
        "bases.append(('svm', model3))\n",
        "\n",
        "# Criando os ensembles e adicionando-os na lista de modelos\n",
        "models.append(('Bagging', BaggingClassifier(base_estimator=base, n_estimators=num_trees)))\n",
        "models.append(('RF', RandomForestClassifier(n_estimators=num_trees, max_features=max_features)))\n",
        "models.append(('ET', ExtraTreesClassifier(n_estimators=num_trees, max_features=max_features)))\n",
        "models.append(('Ada', AdaBoostClassifier(n_estimators=num_trees)))\n",
        "models.append(('GB', GradientBoostingClassifier(n_estimators=num_trees)))\n",
        "models.append(('Voting', VotingClassifier(bases)))\n",
        "\n",
        "# Listas para armazenar os resultados\n",
        "results = []\n",
        "names = []\n",
        "\n",
        "# Avaliação dos modelos\n",
        "for name, model in models:\n",
        "    cv_results = cross_val_score(model, x_treino, y_treino, cv=kfold, scoring='accuracy')\n",
        "    results.append(cv_results)\n",
        "    names.append(name)\n",
        "    msg = \"%s: %f (%f)\" % (name, cv_results.mean(), cv_results.std())\n",
        "    print(msg)\n",
        "\n",
        "# Boxplot de comparação dos modelos\n",
        "fig = plt.figure(figsize=(15,10))\n",
        "fig.suptitle('Comparação dos Modelos')\n",
        "ax = fig.add_subplot(111)\n",
        "plt.boxplot(results)\n",
        "ax.set_xticklabels(names)\n",
        "plt.show()"
      ],
      "metadata": {
        "colab": {
          "base_uri": "https://localhost:8080/",
          "height": 1000
        },
        "id": "X8mEgHOb5uJD",
        "outputId": "f0492e06-79ec-4a77-fabf-4a819d22e584"
      },
      "execution_count": 26,
      "outputs": [
        {
          "output_type": "stream",
          "name": "stdout",
          "text": [
            "LR: 0.886148 (0.014470)\n",
            "KNN: 0.856094 (0.017169)\n",
            "CART: 0.911827 (0.010304)\n",
            "NB: 0.862163 (0.013703)\n",
            "SVM: 0.839305 (0.017754)\n",
            "Bagging: 0.939619 (0.011357)\n",
            "RF: 0.943567 (0.008900)\n",
            "ET: 0.925932 (0.008767)\n",
            "Ada: 0.936515 (0.006537)\n",
            "GB: 0.942581 (0.010299)\n",
            "Voting: 0.896024 (0.014006)\n"
          ]
        },
        {
          "output_type": "display_data",
          "data": {
            "text/plain": [
              "<Figure size 1500x1000 with 1 Axes>"
            ],
            "image/png": "[encoded data removed]"
          },
          "metadata": {}
        }
      ]
    },
    {
      "cell_type": "markdown",
      "source": [
        "Criação e avaliação de modelos: dados padronizados e normalizados"
      ],
      "metadata": {
        "id": "VlU3qOIL2yyP"
      }
    },
    {
      "cell_type": "code",
      "source": [
        "np.random.seed(8) # definindo uma semente global para este bloco\n",
        "\n",
        "# Listas para armazenar os armazenar os pipelines e os resultados para todas as visões do dataset\n",
        "pipelines = []\n",
        "results = []\n",
        "names = []\n",
        "\n",
        "\n",
        "# Criando os elementos do pipeline\n",
        "\n",
        "# Algoritmos que serão utilizados\n",
        "reg_log = ('LR', LogisticRegression(max_iter=200))\n",
        "knn = ('KNN', KNeighborsClassifier())\n",
        "cart = ('CART', DecisionTreeClassifier())\n",
        "naive_bayes = ('NB', GaussianNB())\n",
        "svm = ('SVM', SVC())\n",
        "bagging = ('Bag', BaggingClassifier(base_estimator=base, n_estimators=num_trees))\n",
        "random_forest = ('RF', RandomForestClassifier(n_estimators=num_trees, max_features=max_features))\n",
        "extra_trees = ('ET', ExtraTreesClassifier(n_estimators=num_trees, max_features=max_features))\n",
        "adaboost = ('Ada', AdaBoostClassifier(n_estimators=num_trees))\n",
        "gradient_boosting = ('GB', GradientBoostingClassifier(n_estimators=num_trees))\n",
        "voting = ('Voting', VotingClassifier(bases))\n",
        "\n",
        "# Transformações que serão utilizadas\n",
        "standard_scaler = ('StandardScaler', StandardScaler())\n",
        "min_max_scaler = ('MinMaxScaler', MinMaxScaler())\n",
        "\n",
        "\n",
        "# Montando os pipelines\n",
        "\n",
        "# Dataset original\n",
        "pipelines.append(('LR-orig', Pipeline([reg_log])))\n",
        "pipelines.append(('KNN-orig', Pipeline([knn])))\n",
        "pipelines.append(('CART-orig', Pipeline([cart])))\n",
        "pipelines.append(('NB-orig', Pipeline([naive_bayes])))\n",
        "pipelines.append(('SVM-orig', Pipeline([svm])))\n",
        "pipelines.append(('Bag-orig', Pipeline([bagging])))\n",
        "pipelines.append(('RF-orig', Pipeline([random_forest])))\n",
        "pipelines.append(('ET-orig', Pipeline([extra_trees])))\n",
        "pipelines.append(('Ada-orig', Pipeline([adaboost])))\n",
        "pipelines.append(('GB-orig', Pipeline([gradient_boosting])))\n",
        "pipelines.append(('Vot-orig', Pipeline([voting])))\n",
        "\n",
        "# Dataset Padronizado\n",
        "pipelines.append(('LR-padr', Pipeline([standard_scaler, reg_log])))\n",
        "pipelines.append(('KNN-padr', Pipeline([standard_scaler, knn])))\n",
        "pipelines.append(('CART-padr', Pipeline([standard_scaler, cart])))\n",
        "pipelines.append(('NB-padr', Pipeline([standard_scaler, naive_bayes])))\n",
        "pipelines.append(('SVM-padr', Pipeline([standard_scaler, svm])))\n",
        "pipelines.append(('Bag-padr', Pipeline([standard_scaler, bagging])))\n",
        "pipelines.append(('RF-padr', Pipeline([standard_scaler, random_forest])))\n",
        "pipelines.append(('ET-padr', Pipeline([standard_scaler, extra_trees])))\n",
        "pipelines.append(('Ada-padr', Pipeline([standard_scaler, adaboost])))\n",
        "pipelines.append(('GB-padr', Pipeline([standard_scaler, gradient_boosting])))\n",
        "pipelines.append(('Vot-padr', Pipeline([standard_scaler, voting])))\n",
        "\n",
        "# Dataset Normalizado\n",
        "pipelines.append(('LR-norm', Pipeline([min_max_scaler, reg_log])))\n",
        "pipelines.append(('KNN-norm', Pipeline([min_max_scaler, knn])))\n",
        "pipelines.append(('CART-norm', Pipeline([min_max_scaler, cart])))\n",
        "pipelines.append(('NB-norm', Pipeline([min_max_scaler, naive_bayes])))\n",
        "pipelines.append(('SVM-norm', Pipeline([min_max_scaler, svm])))\n",
        "pipelines.append(('Bag-norm', Pipeline([min_max_scaler, bagging])))\n",
        "pipelines.append(('RF-norm', Pipeline([min_max_scaler, random_forest])))\n",
        "pipelines.append(('ET-norm', Pipeline([min_max_scaler, extra_trees])))\n",
        "pipelines.append(('Ada-norm', Pipeline([min_max_scaler, adaboost])))\n",
        "pipelines.append(('GB-norm', Pipeline([min_max_scaler, gradient_boosting])))\n",
        "pipelines.append(('Vot-norm', Pipeline([min_max_scaler, voting])))\n",
        "\n",
        "# Executando os pipelines\n",
        "for name, model in pipelines:\n",
        "    cv_results = cross_val_score(model, x_treino, y_treino, cv=kfold, scoring='accuracy')\n",
        "    results.append(cv_results)\n",
        "    names.append(name)\n",
        "    msg = \"%s: %.3f (%.3f)\" % (name, cv_results.mean(), cv_results.std()) # formatando para 3 casas decimais\n",
        "    print(msg)\n",
        "\n",
        "# Boxplot de comparação dos modelos\n",
        "fig = plt.figure(figsize=(25,6))\n",
        "fig.suptitle('Comparação dos Modelos - Dataset orginal, padronizado e normalizado')\n",
        "ax = fig.add_subplot(111)\n",
        "plt.boxplot(results)\n",
        "ax.set_xticklabels(names, rotation=90)\n",
        "plt.show()"
      ],
      "metadata": {
        "colab": {
          "base_uri": "https://localhost:8080/",
          "height": 980
        },
        "id": "D3sP-NBA8wgv",
        "outputId": "cc5d4af4-934c-4927-8584-de61b7f85c65"
      },
      "execution_count": 27,
      "outputs": [
        {
          "output_type": "stream",
          "name": "stdout",
          "text": [
            "LR-orig: 0.886 (0.014)\n",
            "KNN-orig: 0.856 (0.017)\n",
            "CART-orig: 0.912 (0.010)\n",
            "NB-orig: 0.862 (0.014)\n",
            "SVM-orig: 0.839 (0.018)\n",
            "Bag-orig: 0.940 (0.011)\n",
            "RF-orig: 0.944 (0.009)\n",
            "ET-orig: 0.926 (0.009)\n",
            "Ada-orig: 0.937 (0.007)\n",
            "GB-orig: 0.943 (0.010)\n",
            "Vot-orig: 0.896 (0.014)\n",
            "LR-padr: 0.889 (0.013)\n",
            "KNN-padr: 0.892 (0.014)\n",
            "CART-padr: 0.915 (0.011)\n",
            "NB-padr: 0.862 (0.014)\n",
            "SVM-padr: 0.921 (0.014)\n",
            "Bag-padr: 0.942 (0.010)\n",
            "RF-padr: 0.942 (0.011)\n",
            "ET-padr: 0.928 (0.012)\n",
            "Ada-padr: 0.937 (0.007)\n",
            "GB-padr: 0.943 (0.011)\n",
            "Vot-padr: 0.922 (0.013)\n",
            "LR-norm: 0.885 (0.015)\n",
            "KNN-norm: 0.881 (0.013)\n",
            "CART-norm: 0.915 (0.013)\n",
            "NB-norm: 0.862 (0.014)\n",
            "SVM-norm: 0.912 (0.013)\n",
            "Bag-norm: 0.940 (0.011)\n",
            "RF-norm: 0.943 (0.010)\n",
            "ET-norm: 0.927 (0.010)\n",
            "Ada-norm: 0.937 (0.007)\n",
            "GB-norm: 0.942 (0.010)\n",
            "Vot-norm: 0.912 (0.013)\n"
          ]
        },
        {
          "output_type": "display_data",
          "data": {
            "text/plain": [
              "<Figure size 2500x600 with 1 Axes>"
            ],
            "image/png": "[encoded data removed]"
          },
          "metadata": {}
        }
      ]
    },
    {
      "cell_type": "markdown",
      "source": [
        "Otimização dos hiperparâmetros"
      ],
      "metadata": {
        "id": "HECM_PUGfTb-"
      }
    },
    {
      "cell_type": "code",
      "source": [
        "# Tuning do RF\n",
        "\n",
        "np.random.seed(8) # definindo uma semente global para este bloco\n",
        "\n",
        "pipelines = []\n",
        "\n",
        "# Definindo os componentes do pipeline\n",
        "random_forest = ('RF', RandomForestClassifier(n_estimators=num_trees, max_features=max_features))\n",
        "standard_scaler = ('StandardScaler', StandardScaler())\n",
        "min_max_scaler = ('MinMaxScaler', MinMaxScaler())\n",
        "\n",
        "pipelines.append(('RF-orig', Pipeline([random_forest])))\n",
        "pipelines.append(('RF-padr', Pipeline([standard_scaler, random_forest])))\n",
        "pipelines.append(('RF-norm', Pipeline([min_max_scaler, random_forest])))\n",
        "\n",
        "param_grid = {\n",
        "    'RF__max_features': [1,3],\n",
        "    'RF__verbose': [0,1],\n",
        "}\n",
        "\n",
        "# Prepara e executa o GridSearchCV\n",
        "for name, model in pipelines:\n",
        "    grid = GridSearchCV(estimator=model, param_grid=param_grid, scoring='accuracy', cv=kfold)\n",
        "    grid.fit(X_train, y_train)\n",
        "    # imprime a melhor configuração\n",
        "    print(\"Sem tratamento de missings: %s - Melhor: %f usando %s\" % (name, grid.best_score_, grid.best_params_))"
      ],
      "metadata": {
        "colab": {
          "base_uri": "https://localhost:8080/"
        },
        "id": "AZWULsXxANma",
        "outputId": "f3c813bf-fe9c-499e-84fc-6f1be90cd372"
      },
      "execution_count": 28,
      "outputs": [
        {
          "output_type": "stream",
          "name": "stderr",
          "text": [
            "[Parallel(n_jobs=1)]: Done  49 tasks      | elapsed:    0.5s\n",
            "[Parallel(n_jobs=1)]: Done  49 tasks      | elapsed:    0.0s\n",
            "[Parallel(n_jobs=1)]: Done  49 tasks      | elapsed:    0.5s\n",
            "[Parallel(n_jobs=1)]: Done  49 tasks      | elapsed:    0.0s\n",
            "[Parallel(n_jobs=1)]: Done  49 tasks      | elapsed:    0.5s\n",
            "[Parallel(n_jobs=1)]: Done  49 tasks      | elapsed:    0.0s\n",
            "[Parallel(n_jobs=1)]: Done  49 tasks      | elapsed:    0.4s\n",
            "[Parallel(n_jobs=1)]: Done  49 tasks      | elapsed:    0.0s\n",
            "[Parallel(n_jobs=1)]: Done  49 tasks      | elapsed:    0.5s\n",
            "[Parallel(n_jobs=1)]: Done  49 tasks      | elapsed:    0.0s\n",
            "[Parallel(n_jobs=1)]: Done  49 tasks      | elapsed:    0.5s\n",
            "[Parallel(n_jobs=1)]: Done  49 tasks      | elapsed:    0.0s\n",
            "[Parallel(n_jobs=1)]: Done  49 tasks      | elapsed:    0.7s\n",
            "[Parallel(n_jobs=1)]: Done  49 tasks      | elapsed:    0.0s\n",
            "[Parallel(n_jobs=1)]: Done  49 tasks      | elapsed:    0.7s\n",
            "[Parallel(n_jobs=1)]: Done  49 tasks      | elapsed:    0.0s\n",
            "[Parallel(n_jobs=1)]: Done  49 tasks      | elapsed:    0.5s\n",
            "[Parallel(n_jobs=1)]: Done  49 tasks      | elapsed:    0.0s\n",
            "[Parallel(n_jobs=1)]: Done  49 tasks      | elapsed:    0.4s\n",
            "[Parallel(n_jobs=1)]: Done  49 tasks      | elapsed:    0.0s\n",
            "[Parallel(n_jobs=1)]: Done  49 tasks      | elapsed:    0.7s\n",
            "[Parallel(n_jobs=1)]: Done  49 tasks      | elapsed:    0.0s\n",
            "[Parallel(n_jobs=1)]: Done  49 tasks      | elapsed:    0.7s\n",
            "[Parallel(n_jobs=1)]: Done  49 tasks      | elapsed:    0.0s\n",
            "[Parallel(n_jobs=1)]: Done  49 tasks      | elapsed:    0.7s\n",
            "[Parallel(n_jobs=1)]: Done  49 tasks      | elapsed:    0.0s\n",
            "[Parallel(n_jobs=1)]: Done  49 tasks      | elapsed:    1.0s\n",
            "[Parallel(n_jobs=1)]: Done  49 tasks      | elapsed:    0.0s\n",
            "[Parallel(n_jobs=1)]: Done  49 tasks      | elapsed:    0.7s\n",
            "[Parallel(n_jobs=1)]: Done  49 tasks      | elapsed:    0.0s\n",
            "[Parallel(n_jobs=1)]: Done  49 tasks      | elapsed:    0.7s\n",
            "[Parallel(n_jobs=1)]: Done  49 tasks      | elapsed:    0.0s\n",
            "[Parallel(n_jobs=1)]: Done  49 tasks      | elapsed:    0.7s\n",
            "[Parallel(n_jobs=1)]: Done  49 tasks      | elapsed:    0.0s\n",
            "[Parallel(n_jobs=1)]: Done  49 tasks      | elapsed:    0.7s\n",
            "[Parallel(n_jobs=1)]: Done  49 tasks      | elapsed:    0.0s\n",
            "[Parallel(n_jobs=1)]: Done  49 tasks      | elapsed:    0.7s\n",
            "[Parallel(n_jobs=1)]: Done  49 tasks      | elapsed:    0.0s\n",
            "[Parallel(n_jobs=1)]: Done  49 tasks      | elapsed:    0.7s\n",
            "[Parallel(n_jobs=1)]: Done  49 tasks      | elapsed:    0.0s\n"
          ]
        },
        {
          "output_type": "stream",
          "name": "stdout",
          "text": [
            "Sem tratamento de missings: RF-orig - Melhor: 0.217270 usando {'RF__max_features': 3, 'RF__verbose': 0}\n"
          ]
        },
        {
          "output_type": "stream",
          "name": "stderr",
          "text": [
            "[Parallel(n_jobs=1)]: Done  49 tasks      | elapsed:    0.5s\n",
            "[Parallel(n_jobs=1)]: Done  49 tasks      | elapsed:    0.0s\n",
            "[Parallel(n_jobs=1)]: Done  49 tasks      | elapsed:    0.5s\n",
            "[Parallel(n_jobs=1)]: Done  49 tasks      | elapsed:    0.0s\n",
            "[Parallel(n_jobs=1)]: Done  49 tasks      | elapsed:    0.7s\n",
            "[Parallel(n_jobs=1)]: Done  49 tasks      | elapsed:    0.0s\n",
            "[Parallel(n_jobs=1)]: Done  49 tasks      | elapsed:    0.5s\n",
            "[Parallel(n_jobs=1)]: Done  49 tasks      | elapsed:    0.0s\n",
            "[Parallel(n_jobs=1)]: Done  49 tasks      | elapsed:    0.5s\n",
            "[Parallel(n_jobs=1)]: Done  49 tasks      | elapsed:    0.0s\n",
            "[Parallel(n_jobs=1)]: Done  49 tasks      | elapsed:    0.5s\n",
            "[Parallel(n_jobs=1)]: Done  49 tasks      | elapsed:    0.0s\n",
            "[Parallel(n_jobs=1)]: Done  49 tasks      | elapsed:    0.5s\n",
            "[Parallel(n_jobs=1)]: Done  49 tasks      | elapsed:    0.0s\n",
            "[Parallel(n_jobs=1)]: Done  49 tasks      | elapsed:    0.5s\n",
            "[Parallel(n_jobs=1)]: Done  49 tasks      | elapsed:    0.0s\n",
            "[Parallel(n_jobs=1)]: Done  49 tasks      | elapsed:    0.5s\n",
            "[Parallel(n_jobs=1)]: Done  49 tasks      | elapsed:    0.0s\n",
            "[Parallel(n_jobs=1)]: Done  49 tasks      | elapsed:    0.5s\n",
            "[Parallel(n_jobs=1)]: Done  49 tasks      | elapsed:    0.0s\n",
            "[Parallel(n_jobs=1)]: Done  49 tasks      | elapsed:    1.0s\n",
            "[Parallel(n_jobs=1)]: Done  49 tasks      | elapsed:    0.0s\n",
            "[Parallel(n_jobs=1)]: Done  49 tasks      | elapsed:    0.8s\n",
            "[Parallel(n_jobs=1)]: Done  49 tasks      | elapsed:    0.0s\n",
            "[Parallel(n_jobs=1)]: Done  49 tasks      | elapsed:    0.7s\n",
            "[Parallel(n_jobs=1)]: Done  49 tasks      | elapsed:    0.0s\n",
            "[Parallel(n_jobs=1)]: Done  49 tasks      | elapsed:    0.7s\n",
            "[Parallel(n_jobs=1)]: Done  49 tasks      | elapsed:    0.0s\n",
            "[Parallel(n_jobs=1)]: Done  49 tasks      | elapsed:    0.7s\n",
            "[Parallel(n_jobs=1)]: Done  49 tasks      | elapsed:    0.0s\n",
            "[Parallel(n_jobs=1)]: Done  49 tasks      | elapsed:    0.7s\n",
            "[Parallel(n_jobs=1)]: Done  49 tasks      | elapsed:    0.0s\n",
            "[Parallel(n_jobs=1)]: Done  49 tasks      | elapsed:    0.7s\n",
            "[Parallel(n_jobs=1)]: Done  49 tasks      | elapsed:    0.0s\n",
            "[Parallel(n_jobs=1)]: Done  49 tasks      | elapsed:    0.7s\n",
            "[Parallel(n_jobs=1)]: Done  49 tasks      | elapsed:    0.0s\n",
            "[Parallel(n_jobs=1)]: Done  49 tasks      | elapsed:    1.0s\n",
            "[Parallel(n_jobs=1)]: Done  49 tasks      | elapsed:    0.0s\n",
            "[Parallel(n_jobs=1)]: Done  49 tasks      | elapsed:    0.7s\n",
            "[Parallel(n_jobs=1)]: Done  49 tasks      | elapsed:    0.0s\n",
            "[Parallel(n_jobs=1)]: Done  49 tasks      | elapsed:    0.8s\n"
          ]
        },
        {
          "output_type": "stream",
          "name": "stdout",
          "text": [
            "Sem tratamento de missings: RF-padr - Melhor: 0.215861 usando {'RF__max_features': 3, 'RF__verbose': 1}\n"
          ]
        },
        {
          "output_type": "stream",
          "name": "stderr",
          "text": [
            "[Parallel(n_jobs=1)]: Done  49 tasks      | elapsed:    0.4s\n",
            "[Parallel(n_jobs=1)]: Done  49 tasks      | elapsed:    0.0s\n",
            "[Parallel(n_jobs=1)]: Done  49 tasks      | elapsed:    0.5s\n",
            "[Parallel(n_jobs=1)]: Done  49 tasks      | elapsed:    0.0s\n",
            "[Parallel(n_jobs=1)]: Done  49 tasks      | elapsed:    0.4s\n",
            "[Parallel(n_jobs=1)]: Done  49 tasks      | elapsed:    0.0s\n",
            "[Parallel(n_jobs=1)]: Done  49 tasks      | elapsed:    0.5s\n",
            "[Parallel(n_jobs=1)]: Done  49 tasks      | elapsed:    0.0s\n",
            "[Parallel(n_jobs=1)]: Done  49 tasks      | elapsed:    0.5s\n",
            "[Parallel(n_jobs=1)]: Done  49 tasks      | elapsed:    0.0s\n",
            "[Parallel(n_jobs=1)]: Done  49 tasks      | elapsed:    0.4s\n",
            "[Parallel(n_jobs=1)]: Done  49 tasks      | elapsed:    0.0s\n",
            "[Parallel(n_jobs=1)]: Done  49 tasks      | elapsed:    0.5s\n",
            "[Parallel(n_jobs=1)]: Done  49 tasks      | elapsed:    0.0s\n",
            "[Parallel(n_jobs=1)]: Done  49 tasks      | elapsed:    0.5s\n",
            "[Parallel(n_jobs=1)]: Done  49 tasks      | elapsed:    0.0s\n",
            "[Parallel(n_jobs=1)]: Done  49 tasks      | elapsed:    0.4s\n",
            "[Parallel(n_jobs=1)]: Done  49 tasks      | elapsed:    0.0s\n",
            "[Parallel(n_jobs=1)]: Done  49 tasks      | elapsed:    0.7s\n",
            "[Parallel(n_jobs=1)]: Done  49 tasks      | elapsed:    0.0s\n",
            "[Parallel(n_jobs=1)]: Done  49 tasks      | elapsed:    0.7s\n",
            "[Parallel(n_jobs=1)]: Done  49 tasks      | elapsed:    0.0s\n",
            "[Parallel(n_jobs=1)]: Done  49 tasks      | elapsed:    0.7s\n",
            "[Parallel(n_jobs=1)]: Done  49 tasks      | elapsed:    0.0s\n",
            "[Parallel(n_jobs=1)]: Done  49 tasks      | elapsed:    0.7s\n",
            "[Parallel(n_jobs=1)]: Done  49 tasks      | elapsed:    0.0s\n",
            "[Parallel(n_jobs=1)]: Done  49 tasks      | elapsed:    0.7s\n",
            "[Parallel(n_jobs=1)]: Done  49 tasks      | elapsed:    0.0s\n",
            "[Parallel(n_jobs=1)]: Done  49 tasks      | elapsed:    0.8s\n",
            "[Parallel(n_jobs=1)]: Done  49 tasks      | elapsed:    0.0s\n",
            "[Parallel(n_jobs=1)]: Done  49 tasks      | elapsed:    1.0s\n",
            "[Parallel(n_jobs=1)]: Done  49 tasks      | elapsed:    0.0s\n",
            "[Parallel(n_jobs=1)]: Done  49 tasks      | elapsed:    0.7s\n",
            "[Parallel(n_jobs=1)]: Done  49 tasks      | elapsed:    0.0s\n",
            "[Parallel(n_jobs=1)]: Done  49 tasks      | elapsed:    0.7s\n",
            "[Parallel(n_jobs=1)]: Done  49 tasks      | elapsed:    0.0s\n",
            "[Parallel(n_jobs=1)]: Done  49 tasks      | elapsed:    0.7s\n",
            "[Parallel(n_jobs=1)]: Done  49 tasks      | elapsed:    0.0s\n",
            "[Parallel(n_jobs=1)]: Done  49 tasks      | elapsed:    0.7s\n",
            "[Parallel(n_jobs=1)]: Done  49 tasks      | elapsed:    0.0s\n",
            "[Parallel(n_jobs=1)]: Done  49 tasks      | elapsed:    0.8s\n"
          ]
        },
        {
          "output_type": "stream",
          "name": "stdout",
          "text": [
            "Sem tratamento de missings: RF-norm - Melhor: 0.216847 usando {'RF__max_features': 3, 'RF__verbose': 1}\n"
          ]
        }
      ]
    },
    {
      "cell_type": "code",
      "source": [
        "# Eliminação Recursiva de Atributos\n",
        "\n",
        "# Criação do modelo\n",
        "modelo = RandomForestClassifier(n_estimators=num_trees, max_features=max_features)\n",
        "\n",
        "# Eliminação Recursiva de Atributos\n",
        "rfe = RFE(modelo, n_features_to_select=5)\n",
        "fit = rfe.fit(X, y)\n",
        "\n",
        "# Print dos resultados\n",
        "print(\"Atributos Originais:\", tabela.columns[:15])\n",
        "\n",
        "# Exibe os atributos selecionados (marcados como True em \"Atributos Selecionados\"\n",
        "# e com valor 1 em \"Ranking dos Atributos\")\n",
        "print(\"\\nAtributos Selecionados: %s\" % fit.support_)\n",
        "print(\"\\nRanking de atributos: %s\" % fit.ranking_)\n",
        "print(\"\\nQtd de melhores Atributos: %d\" % fit.n_features_)\n",
        "print(\"\\nNomes dos Atributos Selecionados: %s\" % fit.get_feature_names_out(input_features=tabela.columns[10:15]))"
      ],
      "metadata": {
        "colab": {
          "base_uri": "https://localhost:8080/"
        },
        "id": "4axqWXvg9w-g",
        "outputId": "7c35069c-5188-41e3-e820-f7e3fbb29828"
      },
      "execution_count": 30,
      "outputs": [
        {
          "output_type": "stream",
          "name": "stdout",
          "text": [
            "Atributos Originais: Index(['id', 'default', 'idade', 'sexo', 'dependentes', 'escolaridade',\n",
            "       'estado_civil', 'salario_anual', 'tipo_cartao',\n",
            "       'meses_de_relacionamento', 'qtd_produtos', 'iteracoes_12m',\n",
            "       'meses_inativo_12m', 'limite_credito', 'valor_transacoes_12m'],\n",
            "      dtype='object')\n",
            "\n",
            "Atributos Selecionados: [ True  True  True  True  True]\n",
            "\n",
            "Ranking de atributos: [1 1 1 1 1]\n",
            "\n",
            "Qtd de melhores Atributos: 5\n",
            "\n",
            "Nomes dos Atributos Selecionados: ['qtd_produtos' 'iteracoes_12m' 'meses_inativo_12m' 'limite_credito'\n",
            " 'valor_transacoes_12m']\n"
          ]
        }
      ]
    },
    {
      "cell_type": "code",
      "source": [
        "# Avaliação do modelo com o conjunto de testes\n",
        "\n",
        "# Preparação do modelo\n",
        "scaler = StandardScaler().fit(x_treino) # ajuste do scaler com o conjunto de treino\n",
        "rescaledX = scaler.transform(x_treino) # aplicação da padronização no conjunto de treino\n",
        "model = RandomForestClassifier(n_estimators=num_trees, max_features=max_features)\n",
        "model.fit(rescaledX, y_treino)\n",
        "\n",
        "# Estimativa da acurácia no conjunto de teste\n",
        "rescaledTestX = scaler.transform(x_teste) # aplicação da padronização no conjunto de teste\n",
        "predictions = model.predict(rescaledTestX)\n",
        "print(accuracy_score(y_teste, predictions))"
      ],
      "metadata": {
        "colab": {
          "base_uri": "https://localhost:8080/"
        },
        "id": "i4AKScZkZlUd",
        "outputId": "865e4237-cd44-4b26-fafc-8e1d06bbc329"
      },
      "execution_count": 31,
      "outputs": [
        {
          "output_type": "stream",
          "name": "stdout",
          "text": [
            "0.9384666008555446\n"
          ]
        }
      ]
    },
    {
      "cell_type": "code",
      "source": [
        "# Preparação do modelo com TODO o dataset\n",
        "scaler = StandardScaler().fit(x) # ajuste do scaler com TODO o dataset\n",
        "rescaledX = scaler.transform(x) # aplicação da padronização com TODO o dataset\n",
        "model.fit(rescaledX, y)"
      ],
      "metadata": {
        "colab": {
          "base_uri": "https://localhost:8080/",
          "height": 75
        },
        "id": "XVSBKxjqbo9o",
        "outputId": "005eadc0-1b9e-40f6-8fb2-731ad74c15bc"
      },
      "execution_count": 32,
      "outputs": [
        {
          "output_type": "execute_result",
          "data": {
            "text/plain": [
              "RandomForestClassifier(max_features=3)"
            ],
            "text/html": [
              "<style>#sk-container-id-1 {color: black;background-color: white;}#sk-container-id-1 pre{padding: 0;}#sk-container-id-1 div.sk-toggleable {background-color: white;}#sk-container-id-1 label.sk-toggleable__label {cursor: pointer;display: block;width: 100%;margin-bottom: 0;padding: 0.3em;box-sizing: border-box;text-align: center;}#sk-container-id-1 label.sk-toggleable__label-arrow:before {content: \"▸\";float: left;margin-right: 0.25em;color: #696969;}#sk-container-id-1 label.sk-toggleable__label-arrow:hover:before {color: black;}#sk-container-id-1 div.sk-estimator:hover label.sk-toggleable__label-arrow:before {color: black;}#sk-container-id-1 div.sk-toggleable__content {max-height: 0;max-width: 0;overflow: hidden;text-align: left;background-color: #f0f8ff;}#sk-container-id-1 div.sk-toggleable__content pre {margin: 0.2em;color: black;border-radius: 0.25em;background-color: #f0f8ff;}#sk-container-id-1 input.sk-toggleable__control:checked~div.sk-toggleable__content {max-height: 200px;max-width: 100%;overflow: auto;}#sk-container-id-1 input.sk-toggleable__control:checked~label.sk-toggleable__label-arrow:before {content: \"▾\";}#sk-container-id-1 div.sk-estimator input.sk-toggleable__control:checked~label.sk-toggleable__label {background-color: #d4ebff;}#sk-container-id-1 div.sk-label input.sk-toggleable__control:checked~label.sk-toggleable__label {background-color: #d4ebff;}#sk-container-id-1 input.sk-hidden--visually {border: 0;clip: rect(1px 1px 1px 1px);clip: rect(1px, 1px, 1px, 1px);height: 1px;margin: -1px;overflow: hidden;padding: 0;position: absolute;width: 1px;}#sk-container-id-1 div.sk-estimator {font-family: monospace;background-color: #f0f8ff;border: 1px dotted black;border-radius: 0.25em;box-sizing: border-box;margin-bottom: 0.5em;}#sk-container-id-1 div.sk-estimator:hover {background-color: #d4ebff;}#sk-container-id-1 div.sk-parallel-item::after {content: \"\";width: 100%;border-bottom: 1px solid gray;flex-grow: 1;}#sk-container-id-1 div.sk-label:hover label.sk-toggleable__label {background-color: #d4ebff;}#sk-container-id-1 div.sk-serial::before {content: \"\";position: absolute;border-left: 1px solid gray;box-sizing: border-box;top: 0;bottom: 0;left: 50%;z-index: 0;}#sk-container-id-1 div.sk-serial {display: flex;flex-direction: column;align-items: center;background-color: white;padding-right: 0.2em;padding-left: 0.2em;position: relative;}#sk-container-id-1 div.sk-item {position: relative;z-index: 1;}#sk-container-id-1 div.sk-parallel {display: flex;align-items: stretch;justify-content: center;background-color: white;position: relative;}#sk-container-id-1 div.sk-item::before, #sk-container-id-1 div.sk-parallel-item::before {content: \"\";position: absolute;border-left: 1px solid gray;box-sizing: border-box;top: 0;bottom: 0;left: 50%;z-index: -1;}#sk-container-id-1 div.sk-parallel-item {display: flex;flex-direction: column;z-index: 1;position: relative;background-color: white;}#sk-container-id-1 div.sk-parallel-item:first-child::after {align-self: flex-end;width: 50%;}#sk-container-id-1 div.sk-parallel-item:last-child::after {align-self: flex-start;width: 50%;}#sk-container-id-1 div.sk-parallel-item:only-child::after {width: 0;}#sk-container-id-1 div.sk-dashed-wrapped {border: 1px dashed gray;margin: 0 0.4em 0.5em 0.4em;box-sizing: border-box;padding-bottom: 0.4em;background-color: white;}#sk-container-id-1 div.sk-label label {font-family: monospace;font-weight: bold;display: inline-block;line-height: 1.2em;}#sk-container-id-1 div.sk-label-container {text-align: center;}#sk-container-id-1 div.sk-container {/* jupyter's `normalize.less` sets `[hidden] { display: none; }` but bootstrap.min.css set `[hidden] { display: none !important; }` so we also need the `!important` here to be able to override the default hidden behavior on the sphinx rendered scikit-learn.org. See: https://github.com/scikit-learn/scikit-learn/issues/21755 */display: inline-block !important;position: relative;}#sk-container-id-1 div.sk-text-repr-fallback {display: none;}</style><div id=\"sk-container-id-1\" class=\"sk-top-container\"><div class=\"sk-text-repr-fallback\"><pre>RandomForestClassifier(max_features=3)</pre><b>In a Jupyter environment, please rerun this cell to show the HTML representation or trust the notebook. <br />On GitHub, the HTML representation is unable to render, please try loading this page with nbviewer.org.</b></div><div class=\"sk-container\" hidden><div class=\"sk-item\"><div class=\"sk-estimator sk-toggleable\"><input class=\"sk-toggleable__control sk-hidden--visually\" id=\"sk-estimator-id-1\" type=\"checkbox\" checked><label for=\"sk-estimator-id-1\" class=\"sk-toggleable__label sk-toggleable__label-arrow\">RandomForestClassifier</label><div class=\"sk-toggleable__content\"><pre>RandomForestClassifier(max_features=3)</pre></div></div></div></div></div>"
            ]
          },
          "metadata": {},
          "execution_count": 32
        }
      ]
    },
    {
      "cell_type": "code",
      "source": [
        "# Treinando 100% da base para treino\n",
        "\n",
        "model = RandomForestClassifier()\n",
        "model.fit(x_treino, y_treino)\n",
        "\n",
        "# Fazendo as predições com o conjunto de teste\n",
        "predictions = model.predict(x_teste)\n",
        "\n",
        "# Estimando a acurácia no conjunto de teste\n",
        "print(accuracy_score(y_teste, predictions))\n"
      ],
      "metadata": {
        "colab": {
          "base_uri": "https://localhost:8080/"
        },
        "id": "Hr5pNM5SDIcR",
        "outputId": "e10a203f-697f-447d-c5aa-2ae017abc961"
      },
      "execution_count": 33,
      "outputs": [
        {
          "output_type": "stream",
          "name": "stdout",
          "text": [
            "0.9410990457387298\n"
          ]
        }
      ]
    },
    {
      "cell_type": "markdown",
      "source": [
        "**Considerações finais:**\n",
        "\n",
        "Os modelos apresentaram bons resultados, sendo capazes de prever uma possível  inadimplência do cliente, conforme proposta inicial.\n",
        "O modelo escolhido que apresentou uma acurácia em torno de 94% foi o RandomForestClassifier.\n",
        "Não foi observado overfitting.\n",
        "\n",
        "**Observações:**\n",
        "Foi utilizada a validação cruzada para treinar e avaliar os modelos usando a métrica acurácia.\n",
        "Foi também utilizada a biblioteca Pipeline para criar e avaliar os modelos através da validação cruzada com os dados padronizados e normalizados, não apresentando diferença considerável do resultado dos modelos treinados com o dataset original.\n",
        "Foi executada a otimização dos hiperparâmetros do algoritmo \"RF\" (algoritmo que apresentou melhor resultado) a fim de buscar resultados ainda melhores, porém, sem sucesso.\n",
        "\n",
        "\n",
        "\n",
        "\n",
        "\n",
        "\n"
      ],
      "metadata": {
        "id": "8MehLH1X3FHx"
      }
    }
  ]
}